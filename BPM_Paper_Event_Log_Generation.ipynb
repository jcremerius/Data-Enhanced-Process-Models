{
 "cells": [
  {
   "cell_type": "markdown",
   "metadata": {},
   "source": [
    "This notebook creates the event log for the experiment in the paper \"Data Enhanced Process Models in Process Mining\"\n",
    "It uses the MIMIC-IV (https://physionet.org/content/mimiciv/1.0/) database, stored in a Postgres database. First, all cases related to acute Heart Failure are retrieved. Then, the hospital data for their repsective hospital admission is fetched. Additionally, X-ray data is retrieved from an external database called MIMIC-CXR (https://physionet.org/content/mimic-cxr/2.0.0/). After that, relevant lab values and physician order entries, according to the clinical guideline, are used for the event log. The databases can be accessed via physionet, which require CITI training for access (https://mimic.mit.edu/iv/). \n",
    "\n",
    "!!!Do not forget to execute the defined functions at the bottom of the script first!!!"
   ]
  },
  {
   "cell_type": "code",
   "execution_count": null,
   "metadata": {},
   "outputs": [],
   "source": [
    "import numpy as np\n",
    "from psycopg2 import connect\n",
    "import pandas as pd\n",
    "import pm4py\n",
    "import numpy as np\n",
    "import pandasql as ps\n",
    "from pm4py.objects.conversion.log import converter as log_converter\n",
    "#connect to postgres mimic database\n",
    "con = connect(dbname=\"postgres\", host=\"127.0.0.1\", user=\"postgres\", password=\"1234\")\n",
    "con.set_client_encoding('utf8')\n",
    "cursor = con.cursor()"
   ]
  },
  {
   "cell_type": "code",
   "execution_count": null,
   "metadata": {},
   "outputs": [],
   "source": [
    "pd.set_option(\"display.max_rows\", 500)"
   ]
  },
  {
   "cell_type": "code",
   "execution_count": null,
   "metadata": {},
   "outputs": [],
   "source": [
    "cursor.execute('SELECT * FROM mimic_hosp.diagnoses_icd')\n",
    "icds = cursor.fetchall()\n",
    "cols = list(map(lambda x: x[0], cursor.description))\n",
    "icds = pd.DataFrame(icds, columns=cols)"
   ]
  },
  {
   "cell_type": "code",
   "execution_count": null,
   "metadata": {
    "scrolled": true
   },
   "outputs": [],
   "source": [
    "hf = icds.loc[icds[\"icd_code\"].str.contains(\"42821\") | (icds[\"icd_code\"].str.contains(\"42823\")) | (icds[\"icd_code\"].str.contains(\"42831\")) |\n",
    "        (icds[\"icd_code\"].str.contains(\"42833\")) | (icds[\"icd_code\"].str.contains(\"42841\"))| (icds[\"icd_code\"].str.contains(\"42843\"))\n",
    "        | (icds[\"icd_code\"].str.contains(\"I5021\")) |  (icds[\"icd_code\"].str.contains(\"I5023\")) |(icds[\"icd_code\"].str.contains(\"I5031\"))|\n",
    "        (icds[\"icd_code\"].str.contains(\"I5033\")) |\n",
    "        (icds[\"icd_code\"].str.contains(\"I5041\"))|\n",
    "        (icds[\"icd_code\"].str.contains(\"I5042\"))|\n",
    "        (icds[\"icd_code\"].str.contains(\"I5043\"))|\n",
    "        (icds[\"icd_code\"].str.contains(\"I5811\"))|\n",
    "        (icds[\"icd_code\"].str.contains(\"I5813\"))]\n"
   ]
  },
  {
   "cell_type": "code",
   "execution_count": null,
   "metadata": {},
   "outputs": [],
   "source": [
    "hf = hf.reset_index()"
   ]
  },
  {
   "cell_type": "code",
   "execution_count": null,
   "metadata": {},
   "outputs": [],
   "source": [
    "hf = hf.drop(\"index\", axis=1)"
   ]
  },
  {
   "cell_type": "code",
   "execution_count": null,
   "metadata": {},
   "outputs": [],
   "source": [
    "hadms = list(hf[\"hadm_id\"])"
   ]
  },
  {
   "cell_type": "code",
   "execution_count": null,
   "metadata": {},
   "outputs": [],
   "source": [
    "cursor.execute(\"SELECT * FROM mimic_hosp.d_icd_diagnoses\")\n",
    "desc_icd = cursor.fetchall()\n",
    "cols = list(map(lambda x: x[0], cursor.description))\n",
    "desc_icd = pd.DataFrame(desc_icd, columns=cols)\n",
    "desc_icd = desc_icd[[\"icd_code\", \"long_title\"]]"
   ]
  },
  {
   "cell_type": "code",
   "execution_count": null,
   "metadata": {},
   "outputs": [],
   "source": [
    "hf = hf.merge(desc_icd, on=\"icd_code\", how=\"inner\")"
   ]
  },
  {
   "cell_type": "code",
   "execution_count": null,
   "metadata": {},
   "outputs": [],
   "source": [
    "cursor.execute(\"SELECT * from mimic_hosp.drgcodes\")\n",
    "drgs = cursor.fetchall()\n",
    "cols = list(map(lambda x: x[0], cursor.description))\n",
    "drgs = pd.DataFrame(drgs, columns=cols)"
   ]
  },
  {
   "cell_type": "code",
   "execution_count": null,
   "metadata": {},
   "outputs": [],
   "source": [
    "APR = drgs.loc[drgs[\"drg_type\"] == \"APR\"]"
   ]
  },
  {
   "cell_type": "code",
   "execution_count": null,
   "metadata": {},
   "outputs": [],
   "source": [
    "hf_drg = drgs.loc[drgs[\"hadm_id\"].isin(list(hf[\"hadm_id\"]))]"
   ]
  },
  {
   "cell_type": "code",
   "execution_count": null,
   "metadata": {},
   "outputs": [],
   "source": [
    "hf_drg = hf_drg.loc[hf_drg[\"drg_type\"] == \"APR\"]"
   ]
  },
  {
   "cell_type": "code",
   "execution_count": null,
   "metadata": {},
   "outputs": [],
   "source": [
    "#Consider only Heart Failure related DRGs\n",
    "l = list([\"Heart Failure\", \"Cardiac Catheterization w/ Circ Disord Exc Ischemic Heart Disease\",\"Percutaneous Cardiovascular Procedures w/o AMI\",\n",
    "\"Cardiac Arrhythmia & Conduction Disorders\",\n",
    "\"Acute Myocardial Infarction\",\n",
    "\"Percutaneous Cardiovascular Procedures w/ AMI\",\n",
    "\"Cardiac Catheterization for Ischemic Heart Disease\",\n",
    "\"Cardiac Defibrillator & Heart Assist Anomaly\",\n",
    "\"Cardiac Valve Procedures w/ Cardiac Catheterization\",\n",
    "\"Coronary Bypass w/ Cardiac Cath Or Percutaneous Cardiac Procedure\",\n",
    "\"Other Circulatory System Diagnoses\"\n",
    "         ])\n",
    "l = [x.upper() for x in l]"
   ]
  },
  {
   "cell_type": "code",
   "execution_count": null,
   "metadata": {},
   "outputs": [],
   "source": [
    "hf_filter = hf_drg.loc[hf_drg[\"description\"].isin(l)]"
   ]
  },
  {
   "cell_type": "code",
   "execution_count": null,
   "metadata": {},
   "outputs": [],
   "source": [
    "hf_filter = hf_filter.sort_values([\"hadm_id\", \"drg_code\"])"
   ]
  },
  {
   "cell_type": "code",
   "execution_count": null,
   "metadata": {},
   "outputs": [],
   "source": [
    "hf_filter = hf_filter.reset_index()"
   ]
  },
  {
   "cell_type": "code",
   "execution_count": null,
   "metadata": {},
   "outputs": [],
   "source": [
    "hf_filter.drop(\"index\", axis=1,inplace=True)"
   ]
  },
  {
   "cell_type": "code",
   "execution_count": null,
   "metadata": {},
   "outputs": [],
   "source": [
    "hadms = list(hf_filter[\"hadm_id\"])"
   ]
  },
  {
   "cell_type": "code",
   "execution_count": null,
   "metadata": {},
   "outputs": [],
   "source": [
    "hf_diag = get_diagnoses(hf_filter, hadms, 3)"
   ]
  },
  {
   "cell_type": "code",
   "execution_count": null,
   "metadata": {},
   "outputs": [],
   "source": [
    "hf_adm = get_adms(hf_diag, hadms)"
   ]
  },
  {
   "cell_type": "code",
   "execution_count": null,
   "metadata": {},
   "outputs": [],
   "source": [
    "hf_adm = hf_adm.reset_index()"
   ]
  },
  {
   "cell_type": "code",
   "execution_count": null,
   "metadata": {},
   "outputs": [],
   "source": [
    "hf_adm.drop(\"index\", axis=1, inplace=True)"
   ]
  },
  {
   "cell_type": "code",
   "execution_count": null,
   "metadata": {},
   "outputs": [],
   "source": [
    "#Filter cases, where the first icd code does not contain a heart failure related icd code"
   ]
  },
  {
   "cell_type": "code",
   "execution_count": null,
   "metadata": {},
   "outputs": [],
   "source": [
    "hf_adm = hf_adm.loc[hf_adm[\"1_desc_icd\"].str.contains(\"heart failure\", na=False)]"
   ]
  },
  {
   "cell_type": "code",
   "execution_count": null,
   "metadata": {},
   "outputs": [],
   "source": [
    "hadms = list(hf_adm[\"hadm_id\"])"
   ]
  },
  {
   "cell_type": "code",
   "execution_count": null,
   "metadata": {},
   "outputs": [],
   "source": [
    "hf_t = get_transfers(hf_adm, hadms)"
   ]
  },
  {
   "cell_type": "code",
   "execution_count": null,
   "metadata": {},
   "outputs": [],
   "source": [
    "hf_p = get_patients(hf_t)"
   ]
  },
  {
   "cell_type": "code",
   "execution_count": null,
   "metadata": {},
   "outputs": [],
   "source": [
    "hf_p.reset_index(inplace=True)"
   ]
  },
  {
   "cell_type": "code",
   "execution_count": null,
   "metadata": {},
   "outputs": [],
   "source": [
    "hf_p.drop(\"index\", axis=1, inplace=True)"
   ]
  },
  {
   "cell_type": "code",
   "execution_count": null,
   "metadata": {},
   "outputs": [],
   "source": [
    "hadms = list(hf_p[\"hadm_id\"].unique())"
   ]
  },
  {
   "cell_type": "code",
   "execution_count": null,
   "metadata": {},
   "outputs": [],
   "source": [
    "hadms = list(map(int, hadms))"
   ]
  },
  {
   "cell_type": "code",
   "execution_count": null,
   "metadata": {},
   "outputs": [],
   "source": [
    "len(hadms)"
   ]
  },
  {
   "cell_type": "code",
   "execution_count": null,
   "metadata": {},
   "outputs": [],
   "source": [
    "####Retrieve Lab values and entries from POE (provider order entry) table #########"
   ]
  },
  {
   "cell_type": "code",
   "execution_count": null,
   "metadata": {},
   "outputs": [],
   "source": [
    "cursor.execute('SELECT * FROM mimic_hosp.d_labitems')\n",
    "lab_d = cursor.fetchall()\n",
    "cols = list(map(lambda x: x[0], cursor.description))\n",
    "lab_d = pd.DataFrame(lab_d, columns=cols)   "
   ]
  },
  {
   "cell_type": "code",
   "execution_count": null,
   "metadata": {},
   "outputs": [],
   "source": [
    "cursor.execute('SELECT * FROM mimic_hosp.labevents where hadm_id = any(%s)', [hadms])\n",
    "labs = cursor.fetchall()\n",
    "cols = list(map(lambda x: x[0], cursor.description))\n",
    "labs = pd.DataFrame(labs, columns=cols)"
   ]
  },
  {
   "cell_type": "code",
   "execution_count": null,
   "metadata": {},
   "outputs": [],
   "source": [
    "lab_w_detail = labs.merge(lab_d, on=\"itemid\", how=\"inner\")"
   ]
  },
  {
   "cell_type": "code",
   "execution_count": null,
   "metadata": {},
   "outputs": [],
   "source": [
    "lab_w_detail = lab_w_detail.sort_values([\"hadm_id\", \"charttime\"])"
   ]
  },
  {
   "cell_type": "code",
   "execution_count": null,
   "metadata": {},
   "outputs": [],
   "source": [
    "lab_w_detail.loc[(lab_w_detail[\"valuenum\"] < lab_w_detail[\"ref_range_lower\"]) & (lab_w_detail[\"valuenum\"] != 0), \"abnormal_low\"] = \"abnormal\""
   ]
  },
  {
   "cell_type": "code",
   "execution_count": null,
   "metadata": {},
   "outputs": [],
   "source": [
    "lab_w_detail.loc[(lab_w_detail[\"valuenum\"] > lab_w_detail[\"ref_range_upper\"]) & (lab_w_detail[\"valuenum\"] != 0), \"abnormal_high\"] = \"abnormal\""
   ]
  },
  {
   "cell_type": "code",
   "execution_count": null,
   "metadata": {},
   "outputs": [],
   "source": [
    "cursor.execute('SELECT * FROM mimic_hosp.poe where hadm_id = any(%s)', [hadms])\n",
    "poe = cursor.fetchall()\n",
    "cols = list(map(lambda x: x[0], cursor.description))\n",
    "poe = pd.DataFrame(poe, columns=cols)\n",
    "poe = poe.sort_values([\"hadm_id\", \"ordertime\"])"
   ]
  },
  {
   "cell_type": "code",
   "execution_count": null,
   "metadata": {},
   "outputs": [],
   "source": [
    "cursor.execute('SELECT * FROM mimic_hosp.poe_detail')\n",
    "poe_d = cursor.fetchall()\n",
    "cols = list(map(lambda x: x[0], cursor.description))\n",
    "poe_d = pd.DataFrame(poe_d, columns=cols)"
   ]
  },
  {
   "cell_type": "code",
   "execution_count": null,
   "metadata": {},
   "outputs": [],
   "source": [
    "poe = poe.merge(poe_d, on=\"poe_id\", how=\"left\")"
   ]
  },
  {
   "cell_type": "code",
   "execution_count": null,
   "metadata": {},
   "outputs": [],
   "source": [
    "subs = list(hf_p[\"subject_id\"].unique())"
   ]
  },
  {
   "cell_type": "code",
   "execution_count": null,
   "metadata": {},
   "outputs": [],
   "source": [
    "#load x ray metadata from the mimic-cxr https://physionet.org/content/mimic-cxr/2.0.0/\n",
    "findings = pd.read_csv(\"cxr_findings_metadata.csv\")"
   ]
  },
  {
   "cell_type": "code",
   "execution_count": null,
   "metadata": {},
   "outputs": [],
   "source": [
    "HF_findings = findings.loc[findings[\"subject_id\"].isin(subs)]"
   ]
  },
  {
   "cell_type": "code",
   "execution_count": null,
   "metadata": {},
   "outputs": [],
   "source": [
    "labels = {0: 'Negative', 1: 'Positive', -1: 'Uncertain', -9: 'Disagreement'}"
   ]
  },
  {
   "cell_type": "code",
   "execution_count": null,
   "metadata": {},
   "outputs": [],
   "source": [
    "HF_findings.reset_index(inplace=True)"
   ]
  },
  {
   "cell_type": "code",
   "execution_count": null,
   "metadata": {},
   "outputs": [],
   "source": [
    "HF_findings.drop(\"Unnamed: 0\", axis=1, inplace=True)"
   ]
  },
  {
   "cell_type": "code",
   "execution_count": null,
   "metadata": {},
   "outputs": [],
   "source": [
    "HF_findings[\"StudyTime\"] = HF_findings[\"StudyTime\"].astype(int)"
   ]
  },
  {
   "cell_type": "code",
   "execution_count": null,
   "metadata": {},
   "outputs": [],
   "source": [
    "HF_findings[\"StudyTime\"] = HF_findings[\"StudyTime\"].astype(str)"
   ]
  },
  {
   "cell_type": "code",
   "execution_count": null,
   "metadata": {},
   "outputs": [],
   "source": [
    "HF_findings[\"StudyDate\"] = HF_findings[\"StudyDate\"].astype(str)"
   ]
  },
  {
   "cell_type": "code",
   "execution_count": null,
   "metadata": {},
   "outputs": [],
   "source": [
    "HF_findings[\"ImageDate\"] =HF_findings[\"StudyDate\"] +\":\"+ HF_findings[\"StudyTime\"]"
   ]
  },
  {
   "cell_type": "code",
   "execution_count": null,
   "metadata": {},
   "outputs": [],
   "source": [
    "HF_findings = HF_findings.loc[HF_findings[\"StudyTime\"].str.len() >=3]"
   ]
  },
  {
   "cell_type": "code",
   "execution_count": null,
   "metadata": {},
   "outputs": [],
   "source": [
    "HF_findings[\"ImageDate_with_Stamp\"] = pd.to_datetime(HF_findings[\"ImageDate\"], format=\"%Y%m%d:%H%M%S\")"
   ]
  },
  {
   "cell_type": "code",
   "execution_count": null,
   "metadata": {},
   "outputs": [],
   "source": [
    "x = hf_adm[[\"subject_id\", \"hadm_id\",\"admittime\", \"dischtime\"]]"
   ]
  },
  {
   "cell_type": "code",
   "execution_count": null,
   "metadata": {},
   "outputs": [],
   "source": [
    "#map hospital admission to x-ray images\n",
    "sqlcode = '''\n",
    "select *\n",
    "from x\n",
    "left join HF_findings on x.subject_id=HF_findings.subject_id\n",
    "where HF_findings.ImageDate_with_Stamp >= x.admittime and HF_findings.ImageDate_with_Stamp < x.dischtime \n",
    "\n",
    "'''\n",
    "\n",
    "newdf = ps.sqldf(sqlcode,locals())\n",
    "newdf = newdf.loc[:,~newdf.columns.duplicated()]\n",
    "#newdf = newdf.drop_duplicates([\"hadm_id\", \"careunit\", \"intime\", \"outtime\", \"curr_service\"])"
   ]
  },
  {
   "cell_type": "code",
   "execution_count": null,
   "metadata": {},
   "outputs": [],
   "source": [
    "newdf[\"ImageDate_with_Stamp\"] = newdf[\"ImageDate_with_Stamp\"].str.slice(stop=-7)"
   ]
  },
  {
   "cell_type": "code",
   "execution_count": null,
   "metadata": {},
   "outputs": [],
   "source": [
    "newdf[\"ImageDate_with_Stamp\"] = pd.to_datetime(newdf[\"ImageDate_with_Stamp\"])"
   ]
  },
  {
   "cell_type": "code",
   "execution_count": null,
   "metadata": {},
   "outputs": [],
   "source": [
    "to_merge = newdf[['subject_id', 'hadm_id', 'dicom_id', 'Atelectasis',\n",
    "       'Cardiomegaly', 'Consolidation', 'Edema', 'Enlarged Cardiomediastinum',\n",
    "       'Fracture', 'Lung Lesion', 'Lung Opacity', 'No Finding',\n",
    "       'Pleural Effusion', 'Pleural Other', 'Pneumonia', 'Pneumothorax',\n",
    "       'Support Devices', 'has_negbio_finding',\n",
    "       'ImageDate_with_Stamp']]"
   ]
  },
  {
   "cell_type": "code",
   "execution_count": null,
   "metadata": {},
   "outputs": [],
   "source": [
    "x = poe.loc[(poe[\"order_subtype\"] == \"General Xray\") & (poe[\"transaction_type\"] == \"New\")]"
   ]
  },
  {
   "cell_type": "code",
   "execution_count": null,
   "metadata": {},
   "outputs": [],
   "source": [
    "y = x.loc[x[\"hadm_id\"].isin(to_merge[\"hadm_id\"])]"
   ]
  },
  {
   "cell_type": "code",
   "execution_count": null,
   "metadata": {},
   "outputs": [],
   "source": [
    "z = x.loc[x[\"hadm_id\"].isin(to_merge[\"hadm_id\"])]"
   ]
  },
  {
   "cell_type": "code",
   "execution_count": null,
   "metadata": {},
   "outputs": [],
   "source": [
    "y = y.reindex(columns = y.columns.tolist() + ['dicom_id','Atelectasis', 'Cardiomegaly',\n",
    "       'Consolidation', 'Edema', 'Enlarged Cardiomediastinum', 'Fracture',\n",
    "       'Lung Lesion', 'Lung Opacity', 'No Finding', 'Pleural Effusion',\n",
    "       'Pleural Other', 'Pneumonia', 'Pneumothorax', 'Support Devices',\n",
    "       'has_negbio_finding', 'ImageDate_with_Stamp'])"
   ]
  },
  {
   "cell_type": "code",
   "execution_count": null,
   "metadata": {},
   "outputs": [],
   "source": [
    "z = z.reindex(columns = z.columns.tolist() + ['dicom_id','Atelectasis', 'Cardiomegaly',\n",
    "       'Consolidation', 'Edema', 'Enlarged Cardiomediastinum', 'Fracture',\n",
    "       'Lung Lesion', 'Lung Opacity', 'No Finding', 'Pleural Effusion',\n",
    "       'Pleural Other', 'Pneumonia', 'Pneumothorax', 'Support Devices',\n",
    "       'has_negbio_finding', 'ImageDate_with_Stamp'])"
   ]
  },
  {
   "cell_type": "code",
   "execution_count": null,
   "metadata": {},
   "outputs": [],
   "source": [
    "z[['dicom_id', 'Atelectasis', 'Cardiomegaly',\n",
    "       'Consolidation', 'Edema', 'Enlarged Cardiomediastinum', 'Fracture',\n",
    "       'Lung Lesion', 'Lung Opacity', 'No Finding', 'Pleural Effusion',\n",
    "       'Pleural Other', 'Pneumonia', 'Pneumothorax', 'Support Devices',\n",
    "       'has_negbio_finding', 'ImageDate_with_Stamp']] = np.nan"
   ]
  },
  {
   "cell_type": "code",
   "execution_count": null,
   "metadata": {},
   "outputs": [],
   "source": [
    "#match xray to poe order\n",
    "for index, row in y.iterrows():\n",
    "    candidates = to_merge.loc[to_merge[\"hadm_id\"] == row[\"hadm_id\"]]\n",
    "    if (len(candidates) > 0):\n",
    "        for i, r in candidates.iterrows():\n",
    "            if (((abs(row[\"ordertime\"] - r[\"ImageDate_with_Stamp\"])).total_seconds() / 3600) <= 8):\n",
    "                y.loc[index, [\"dicom_id\", \"Atelectasis\",'Cardiomegaly',\n",
    "       'Consolidation', 'Edema', 'Enlarged Cardiomediastinum', 'Fracture',\n",
    "       'Lung Lesion', 'Lung Opacity', 'No Finding', 'Pleural Effusion',\n",
    "       'Pleural Other', 'Pneumonia', 'Pneumothorax', 'Support Devices',\n",
    "       'has_negbio_finding', 'ImageDate_with_Stamp']] = r[[\"dicom_id\", \"Atelectasis\",'Cardiomegaly',\n",
    "       'Consolidation', 'Edema', 'Enlarged Cardiomediastinum', 'Fracture',\n",
    "       'Lung Lesion', 'Lung Opacity', 'No Finding', 'Pleural Effusion',\n",
    "       'Pleural Other', 'Pneumonia', 'Pneumothorax', 'Support Devices',\n",
    "       'has_negbio_finding', 'ImageDate_with_Stamp']]"
   ]
  },
  {
   "cell_type": "code",
   "execution_count": null,
   "metadata": {},
   "outputs": [],
   "source": [
    "dicoms_in_y = y.loc[~y[\"ImageDate_with_Stamp\"].isna()][\"dicom_id\"]"
   ]
  },
  {
   "cell_type": "code",
   "execution_count": null,
   "metadata": {},
   "outputs": [],
   "source": [
    "filtered_y = y.drop_duplicates([\"hadm_id\", \"dicom_id\"], keep=\"first\")"
   ]
  },
  {
   "cell_type": "code",
   "execution_count": null,
   "metadata": {},
   "outputs": [],
   "source": [
    "to_concat = z.loc[~z[\"poe_id\"].isin(filtered_y[\"poe_id\"])]"
   ]
  },
  {
   "cell_type": "code",
   "execution_count": null,
   "metadata": {},
   "outputs": [],
   "source": [
    "xray_no_dups = pd.concat([filtered_y, to_concat])"
   ]
  },
  {
   "cell_type": "code",
   "execution_count": null,
   "metadata": {},
   "outputs": [],
   "source": [
    "x = poe.loc[(poe[\"order_subtype\"] == \"General Xray\") & (poe[\"transaction_type\"] == \"New\")]"
   ]
  },
  {
   "cell_type": "code",
   "execution_count": null,
   "metadata": {},
   "outputs": [],
   "source": [
    "y = x.loc[x[\"hadm_id\"].isin(to_merge[\"hadm_id\"])]"
   ]
  },
  {
   "cell_type": "code",
   "execution_count": null,
   "metadata": {},
   "outputs": [],
   "source": [
    "poe_temp = poe.loc[~poe[\"poe_id\"].isin(xray_no_dups[\"poe_id\"])]"
   ]
  },
  {
   "cell_type": "code",
   "execution_count": null,
   "metadata": {},
   "outputs": [],
   "source": [
    "poe_new = pd.concat([xray_no_dups, poe_temp])"
   ]
  },
  {
   "cell_type": "code",
   "execution_count": null,
   "metadata": {},
   "outputs": [],
   "source": [
    "poe_new"
   ]
  },
  {
   "cell_type": "code",
   "execution_count": null,
   "metadata": {},
   "outputs": [],
   "source": [
    "#poe_new.to_csv(\"poe_table_with_xray.csv\")"
   ]
  },
  {
   "cell_type": "code",
   "execution_count": null,
   "metadata": {
    "scrolled": true
   },
   "outputs": [],
   "source": [
    "poe = pd.read_csv(\"poe_table_with_xray.csv\")"
   ]
  },
  {
   "cell_type": "code",
   "execution_count": null,
   "metadata": {},
   "outputs": [],
   "source": [
    "poe = poe_new"
   ]
  },
  {
   "cell_type": "code",
   "execution_count": null,
   "metadata": {},
   "outputs": [],
   "source": [
    "poe = poe.rename(columns={\"poe_seq_x\": \"poe_seq\"})"
   ]
  },
  {
   "cell_type": "code",
   "execution_count": null,
   "metadata": {},
   "outputs": [],
   "source": [
    "len(poe[\"hadm_id\"].unique())"
   ]
  },
  {
   "cell_type": "code",
   "execution_count": null,
   "metadata": {},
   "outputs": [],
   "source": [
    "poe"
   ]
  },
  {
   "cell_type": "code",
   "execution_count": null,
   "metadata": {},
   "outputs": [],
   "source": [
    "hf_adm = hf_adm.reindex(columns = hf_adm.columns.tolist() + [\"start_time\"])"
   ]
  },
  {
   "cell_type": "code",
   "execution_count": null,
   "metadata": {},
   "outputs": [],
   "source": [
    "hf_adm[\"start_time\"] = 0"
   ]
  },
  {
   "cell_type": "code",
   "execution_count": null,
   "metadata": {},
   "outputs": [],
   "source": [
    "hf_adm = hf_adm.drop(\"start_time\", axis=1)"
   ]
  },
  {
   "cell_type": "code",
   "execution_count": null,
   "metadata": {},
   "outputs": [],
   "source": [
    "hf_adm.loc[hf_adm[\"edregtime\"].isna(), \"start_time\"] = hf_adm[\"admittime\"]"
   ]
  },
  {
   "cell_type": "code",
   "execution_count": null,
   "metadata": {},
   "outputs": [],
   "source": [
    "hf_adm.loc[~hf_adm[\"edregtime\"].isna(), \"start_time\"] = hf_adm[\"edregtime\"]"
   ]
  },
  {
   "cell_type": "code",
   "execution_count": null,
   "metadata": {},
   "outputs": [],
   "source": [
    "#add admission time\n",
    "to_merge = hf_adm[[\"hadm_id\", \"start_time\"]]"
   ]
  },
  {
   "cell_type": "code",
   "execution_count": null,
   "metadata": {},
   "outputs": [],
   "source": [
    "poe = poe.merge(to_merge, on=\"hadm_id\", how=\"inner\")"
   ]
  },
  {
   "cell_type": "code",
   "execution_count": null,
   "metadata": {},
   "outputs": [],
   "source": [
    "poe[\"ordertime\"] = pd.to_datetime(poe[\"ordertime\"])"
   ]
  },
  {
   "cell_type": "code",
   "execution_count": null,
   "metadata": {},
   "outputs": [],
   "source": [
    "hadms_w_xray = poe.loc[~poe[\"dicom_id\"].isna()][\"hadm_id\"].unique()"
   ]
  },
  {
   "cell_type": "code",
   "execution_count": null,
   "metadata": {},
   "outputs": [],
   "source": [
    "poe = poe.loc[poe[\"hadm_id\"].isin(hadms_w_xray)]"
   ]
  },
  {
   "cell_type": "code",
   "execution_count": null,
   "metadata": {},
   "outputs": [],
   "source": [
    "lab_w_detail = lab_w_detail.loc[lab_w_detail[\"hadm_id\"].isin(hadms_w_xray)]"
   ]
  },
  {
   "cell_type": "code",
   "execution_count": null,
   "metadata": {},
   "outputs": [],
   "source": [
    "#create data frame for guideline checking with poe and lab values\n",
    "diag_df = pd.DataFrame()"
   ]
  },
  {
   "cell_type": "code",
   "execution_count": null,
   "metadata": {},
   "outputs": [],
   "source": [
    "telemetry_poe = poe.loc[poe[\"order_subtype\"] == \"Telemetry\"].sort_values([\"hadm_id\", \"ordertime\"])"
   ]
  },
  {
   "cell_type": "code",
   "execution_count": null,
   "metadata": {},
   "outputs": [],
   "source": [
    "diag_df = diag_df.append(telemetry_poe.groupby(\"hadm_id\").nth(0).reset_index())"
   ]
  },
  {
   "cell_type": "code",
   "execution_count": null,
   "metadata": {},
   "outputs": [],
   "source": [
    "oxygen_poe = poe.loc[poe[\"order_subtype\"] == \"Oxygen Therapy\"].sort_values([\"hadm_id\", \"ordertime\"])"
   ]
  },
  {
   "cell_type": "code",
   "execution_count": null,
   "metadata": {},
   "outputs": [],
   "source": [
    "diag_df = diag_df.append(oxygen_poe.groupby(\"hadm_id\").nth(0).reset_index())"
   ]
  },
  {
   "cell_type": "code",
   "execution_count": null,
   "metadata": {
    "scrolled": true
   },
   "outputs": [],
   "source": [
    "radio_poe = poe.loc[(poe[\"order_type\"] == \"Radiology\")].sort_values([\"hadm_id\", \"ordertime\"])"
   ]
  },
  {
   "cell_type": "code",
   "execution_count": null,
   "metadata": {},
   "outputs": [],
   "source": [
    "radio_poe = radio_poe.loc[radio_poe[\"order_subtype\"] == \"General Xray\"]"
   ]
  },
  {
   "cell_type": "code",
   "execution_count": null,
   "metadata": {},
   "outputs": [],
   "source": [
    "diag_df = diag_df.append(radio_poe.groupby(\"hadm_id\").nth(0).reset_index())"
   ]
  },
  {
   "cell_type": "code",
   "execution_count": null,
   "metadata": {},
   "outputs": [],
   "source": [
    "cardio_poe = poe.loc[(poe[\"order_type\"] == \"Cardiology\")].sort_values([\"hadm_id\", \"ordertime\"])"
   ]
  },
  {
   "cell_type": "code",
   "execution_count": null,
   "metadata": {},
   "outputs": [],
   "source": [
    "cardio_poe[\"diff\"] = cardio_poe[\"ordertime\"] - cardio_poe[\"start_time\"]"
   ]
  },
  {
   "cell_type": "code",
   "execution_count": null,
   "metadata": {
    "scrolled": true
   },
   "outputs": [],
   "source": [
    "cardio_poe = cardio_poe.loc[cardio_poe[\"diff\"] < pd.Timedelta(days=2)]"
   ]
  },
  {
   "cell_type": "code",
   "execution_count": null,
   "metadata": {},
   "outputs": [],
   "source": [
    "cardio_poe = cardio_poe.drop_duplicates([\"hadm_id\", \"order_subtype\"], keep=\"first\").reset_index().drop(\"index\", axis=1)"
   ]
  },
  {
   "cell_type": "code",
   "execution_count": null,
   "metadata": {},
   "outputs": [],
   "source": [
    "diag_df = diag_df.append(cardio_poe.groupby(\"hadm_id\").nth(0).reset_index())"
   ]
  },
  {
   "cell_type": "code",
   "execution_count": null,
   "metadata": {},
   "outputs": [],
   "source": [
    "electro = [\"Sodium\", \"Potassium\"]"
   ]
  },
  {
   "cell_type": "code",
   "execution_count": null,
   "metadata": {},
   "outputs": [],
   "source": [
    "liver =[\"Asparate Aminotransferase (AST)\", \"Alanine Aminotransferase (ALT)\", \"Alkaline Phosphatase\", \"Albumin\", \"Bilirubin, Total\"]"
   ]
  },
  {
   "cell_type": "code",
   "execution_count": null,
   "metadata": {},
   "outputs": [],
   "source": [
    "lab_labels = [\"Troponin T\", \"Urea Nitrogen\", \"Creatinine\", \"Glucose\", \"Platelet Count\", \"Thyroid Stimulating Hormone\"]"
   ]
  },
  {
   "cell_type": "code",
   "execution_count": null,
   "metadata": {
    "scrolled": true
   },
   "outputs": [],
   "source": [
    "#keep the name of the lab labels for unabstracted values\n",
    "lab_w_detail.loc[lab_w_detail[\"label\"].isin(lab_labels), \"abstract_lab\"] = lab_w_detail[\"label\"]"
   ]
  },
  {
   "cell_type": "code",
   "execution_count": null,
   "metadata": {},
   "outputs": [],
   "source": [
    "#change the name of liver test related lab values\n",
    "lab_w_detail.loc[lab_w_detail[\"label\"].isin(liver), \"abstract_lab\"] = lab_w_detail[\"label\"]"
   ]
  },
  {
   "cell_type": "code",
   "execution_count": null,
   "metadata": {},
   "outputs": [],
   "source": [
    "#change the name for electrolytes related lab values\n",
    "lab_w_detail.loc[lab_w_detail[\"label\"].isin(electro), \"abstract_lab\"] = lab_w_detail[\"label\"]"
   ]
  },
  {
   "cell_type": "code",
   "execution_count": null,
   "metadata": {},
   "outputs": [],
   "source": [
    "#get first occurences of lab values\n",
    "diag_df = diag_df.append(lab_w_detail.loc[lab_w_detail[\"label\"].isin(electro)].sort_values([\"hadm_id\", \"charttime\"]).groupby([\"hadm_id\", \"abstract_lab\"]).nth(0).reset_index())"
   ]
  },
  {
   "cell_type": "code",
   "execution_count": null,
   "metadata": {},
   "outputs": [],
   "source": [
    "diag_df = diag_df.append(lab_w_detail.loc[lab_w_detail[\"label\"].isin(liver)].sort_values([\"hadm_id\", \"charttime\"]).groupby([\"hadm_id\", \"abstract_lab\"]).nth(0).reset_index())"
   ]
  },
  {
   "cell_type": "code",
   "execution_count": null,
   "metadata": {},
   "outputs": [],
   "source": [
    "diag_df = diag_df.append(lab_w_detail.loc[lab_w_detail[\"label\"].isin(lab_labels)].sort_values([\"hadm_id\", \"charttime\"]).groupby([\"hadm_id\", \"abstract_lab\"]).nth(0).reset_index())"
   ]
  },
  {
   "cell_type": "code",
   "execution_count": null,
   "metadata": {},
   "outputs": [],
   "source": [
    "diag_df = diag_df.reset_index()"
   ]
  },
  {
   "cell_type": "code",
   "execution_count": null,
   "metadata": {},
   "outputs": [],
   "source": [
    "diag_df = diag_df.drop(\"index\", axis=1)"
   ]
  },
  {
   "cell_type": "code",
   "execution_count": null,
   "metadata": {},
   "outputs": [],
   "source": [
    "#create one activity column \"concept:name\" for process mining\n",
    "#for radiology/cardiology orders\n",
    "diag_df.loc[~diag_df[\"poe_id\"].isna(), \"concept:name\"] = diag_df[\"order_subtype\"]"
   ]
  },
  {
   "cell_type": "code",
   "execution_count": null,
   "metadata": {},
   "outputs": [],
   "source": [
    "#for lab values\n",
    "diag_df.loc[~diag_df[\"itemid\"].isna(), \"concept:name\"] = diag_df[\"abstract_lab\"]"
   ]
  },
  {
   "cell_type": "code",
   "execution_count": null,
   "metadata": {},
   "outputs": [],
   "source": [
    "diag_df = diag_df.rename(columns={\"hadm_id\":\"case:concept:name\"})"
   ]
  },
  {
   "cell_type": "code",
   "execution_count": null,
   "metadata": {},
   "outputs": [],
   "source": [
    "diag_df.loc[diag_df[\"ordertime\"].isna(), \"ordertime\"] = diag_df[\"charttime\"]"
   ]
  },
  {
   "cell_type": "code",
   "execution_count": null,
   "metadata": {
    "scrolled": false
   },
   "outputs": [],
   "source": [
    "diag_df = diag_df.sort_values([\"case:concept:name\", \"ordertime\"])"
   ]
  },
  {
   "cell_type": "code",
   "execution_count": null,
   "metadata": {},
   "outputs": [],
   "source": [
    "diag_df.loc[~diag_df[\"poe_id\"].isna(), \"concept:name\"] = \"Perform \" + diag_df[\"concept:name\"]"
   ]
  },
  {
   "cell_type": "code",
   "execution_count": null,
   "metadata": {},
   "outputs": [],
   "source": [
    "diag_df.loc[diag_df[\"poe_id\"].isna(), \"concept:name\"] = \"Analyse \" + diag_df[\"label\"] + \" Value\""
   ]
  },
  {
   "cell_type": "code",
   "execution_count": null,
   "metadata": {},
   "outputs": [],
   "source": [
    "diag_df.loc[diag_df[\"concept:name\"].str.contains(\"Thyroid\"), \"concept:name\"] = diag_df[\"concept:name\"].str.replace(\"Thyroid Stimulating Hormone\", \"TSH\")"
   ]
  },
  {
   "cell_type": "code",
   "execution_count": null,
   "metadata": {},
   "outputs": [],
   "source": [
    "diag_df.loc[diag_df[\"concept:name\"].str.contains(\"Xray\"), \"concept:name\"] = diag_df[\"concept:name\"].str.replace(\"Xray\", \"X-Ray\")"
   ]
  },
  {
   "cell_type": "code",
   "execution_count": null,
   "metadata": {},
   "outputs": [],
   "source": [
    "diag_df = pd.read_csv(\"Logs/HF_DIAG_GUIDE_WITH_XRAY.csv\")"
   ]
  },
  {
   "cell_type": "code",
   "execution_count": null,
   "metadata": {},
   "outputs": [],
   "source": [
    "diag_df"
   ]
  },
  {
   "cell_type": "code",
   "execution_count": null,
   "metadata": {},
   "outputs": [],
   "source": [
    "#create log with either diag_df. the easiest way to creat an xes for prom is to load that into disco and export as XES. Use ordertime as the timestamp\n",
    "event_log = log_converter.apply(diag_df, variant=log_converter.Variants.TO_EVENT_LOG)\n",
    "pm4py.write_csv(event_log, \"Logs/\" + \"BPM_PAPER_EVENT_LOG.csv\")"
   ]
  },
  {
   "cell_type": "code",
   "execution_count": null,
   "metadata": {},
   "outputs": [],
   "source": [
    "def get_diagnoses(df, hadm_ids, n):\n",
    "    cursor.execute('SELECT * FROM mimic_hosp.diagnoses_icd where hadm_id = any(%s)', [hadm_ids])\n",
    "    icds = cursor.fetchall()\n",
    "    cols = list(map(lambda x: x[0], cursor.description))\n",
    "    icds = pd.DataFrame(icds, columns=cols)\n",
    "    \n",
    "    cursor.execute(\"SELECT * FROM mimic_hosp.d_icd_diagnoses\")\n",
    "    desc_icd = cursor.fetchall()\n",
    "    cols = list(map(lambda x: x[0], cursor.description))\n",
    "    desc_icd = pd.DataFrame(desc_icd, columns=cols)\n",
    "    desc_icd = desc_icd[[\"icd_code\", \"long_title\"]]\n",
    "    \n",
    "    b_icds = icds.loc[icds[\"hadm_id\"].isin(hadm_ids)]\n",
    "    count_icd = b_icds.groupby(\"hadm_id\").count()\n",
    "    count_icd = count_icd.reset_index()\n",
    "    count_icd = count_icd[[\"hadm_id\", \"seq_num\"]]\n",
    "    df = df.merge(count_icd, on=\"hadm_id\", how=\"inner\").rename(columns={\"seq_num\":\"count_icd\"})\n",
    "    for i in range (1, n+1):\n",
    "        to_join = b_icds.loc[b_icds[\"seq_num\"] == i][[\"hadm_id\", \"icd_code\"]]\n",
    "        df = df.merge(to_join, on=\"hadm_id\", how=\"left\").rename(columns={\"icd_code\": str(i) + \"_icd\"})\n",
    "        df = df.merge(desc_icd, how=\"left\", left_on=(str(i) + \"_icd\"), right_on=\"icd_code\")\n",
    "        df = df.rename(columns={\"long_title\":str(i) + \"_desc_icd\"})\n",
    "        df = df.drop(\"icd_code\", axis=1)\n",
    "    return df"
   ]
  },
  {
   "cell_type": "code",
   "execution_count": null,
   "metadata": {},
   "outputs": [],
   "source": [
    "def get_adms(df, hadm_ids):\n",
    "    cursor.execute('SELECT * FROM mimic_core.admissions where hadm_id = any(%s)', [hadm_ids])\n",
    "    adms = cursor.fetchall()\n",
    "    cols = list(map(lambda x: x[0], cursor.description))\n",
    "    adms = pd.DataFrame(adms, columns=cols)\n",
    "    b_adms = adms.loc[adms[\"hadm_id\"].isin(hadm_ids)]\n",
    "    b_adms.drop(\"subject_id\", axis=1, inplace=True)\n",
    "    b_adms = df.merge(b_adms, on=\"hadm_id\", how=\"inner\")\n",
    "    b_adms = b_adms.drop_duplicates(\"hadm_id\")\n",
    "    return b_adms"
   ]
  },
  {
   "cell_type": "code",
   "execution_count": null,
   "metadata": {},
   "outputs": [],
   "source": [
    "#requires get_adms for admission/discharge location!\n",
    "def get_transfers(df, hadm_ids):\n",
    "    cursor.execute('SELECT * FROM mimic_core.transfers where hadm_id = any(%s)', [hadms])\n",
    "    transfers = cursor.fetchall()\n",
    "    cols = list(map(lambda x: x[0], cursor.description))\n",
    "    transfers = pd.DataFrame(transfers, columns=cols)\n",
    "    b_trans = transfers.loc[transfers[\"hadm_id\"].isin(hadm_ids)]\n",
    "    b_trans = b_trans.sort_values([\"subject_id\", \"hadm_id\",\"intime\"])\n",
    "    b_trans.loc[(b_trans[\"careunit\"].isna()) & (b_trans[\"eventtype\"] == \"transfer\"), \"careunit\"] = \"Unknown\"\n",
    "    b_trans.loc[(b_trans[\"careunit\"].isna()) & (b_trans[\"eventtype\"] == \"admit\"), \"careunit\"] = \"Admit\"\n",
    "    b_trans.loc[(b_trans[\"careunit\"].isna()) & (b_trans[\"eventtype\"] == \"discharge\"), \"careunit\"] = \"Discharge\"\n",
    "        #Set first careunit to admission location\n",
    "    b_trans = b_trans.drop(\"subject_id\", axis=1)\n",
    "    b_trans = b_trans.merge(df, on=\"hadm_id\", how=\"inner\")\n",
    "    b_trans.loc[b_trans[\"careunit\"] == \"Discharge\", \"careunit\"] = b_trans[\"discharge_location\"]\n",
    "    b_trans = b_trans.sort_values([\"subject_id\", \"hadm_id\",\"intime\"])\n",
    "    first_careunit = b_trans.loc[~b_trans.duplicated(\"hadm_id\", keep=\"first\")]\n",
    "    admission_location = []\n",
    "    for index, row in first_careunit.iterrows():\n",
    "        add_row = row\n",
    "        add_row[\"careunit\"] = row[\"admission_location\"]\n",
    "        add_row[\"outtime\"] = row[\"intime\"] \n",
    "        add_row[\"transfer_id\"] = np.nan\n",
    "        add_row[\"intime\"] = add_row[\"outtime\"] - pd.Timedelta(seconds=1)\n",
    "        admission_location.append(add_row)\n",
    "    admission_location = pd.DataFrame(admission_location)\n",
    "    b_trans_admission_location = pd.concat([first_careunit, admission_location])\n",
    "    b_trans = b_trans.loc[b_trans.duplicated(\"hadm_id\", keep=\"first\")]\n",
    "    b_trans = pd.concat([b_trans, b_trans_admission_location])\n",
    "    b_trans = b_trans.sort_values([\"subject_id\",\"hadm_id\", \"intime\"])\n",
    "    return b_trans"
   ]
  },
  {
   "cell_type": "code",
   "execution_count": null,
   "metadata": {},
   "outputs": [],
   "source": [
    "#requires get_transfers\n",
    "def get_patients(df):\n",
    "    cursor.execute(\"SELECT * FROM mimic_core.patients\")\n",
    "    patients = cursor.fetchall()\n",
    "    cols = list(map(lambda x: x[0], cursor.description))\n",
    "    patients = pd.DataFrame(patients, columns=cols)\n",
    "    b_trans_patient = df.merge(patients, on=\"subject_id\", how=\"inner\")\n",
    "    b_trans_patient[\"transfer_year\"] = b_trans_patient.apply(lambda x: x[\"intime\"].year , axis=1)\n",
    "    b_trans_patient[\"transfer_age\"] = (b_trans_patient[\"transfer_year\"] - b_trans_patient[\"anchor_year\"]) + b_trans_patient[\"anchor_age\"]\n",
    "    b_trans_patient[\"anchor_real_year\"] = b_trans_patient[\"anchor_year_group\"].str.slice(0,4)\n",
    "    b_trans_patient[\"anchor_real_year\"] = pd.to_numeric(b_trans_patient[\"anchor_real_year\"])\n",
    "    b_trans_patient[\"anchor_real_year\"] = b_trans_patient[\"anchor_real_year\"] + 1\n",
    "    b_trans_patient[\"transfer_real_year\"] = b_trans_patient[\"anchor_real_year\"] + b_trans_patient[\"transfer_year\"] - b_trans_patient[\"anchor_year\"]\n",
    "    b_trans_patient.loc[b_trans_patient[\"transfer_real_year\"] == 2021, \"transfer_real_year\"] = 2020\n",
    "    b_trans_patient = b_trans_patient.sort_values([\"hadm_id\", \"intime\"])\n",
    "    \n",
    "    #set patient age for hospital admission according to first transfer in admission\n",
    "    b_trans_patient.loc[~b_trans_patient.duplicated(\"hadm_id\", keep=\"first\"), \"admission_age\"] = b_trans_patient[\"transfer_age\"]\n",
    "    b_trans_patient.loc[b_trans_patient[\"admission_age\"] <= 18, \"admission_age_group\"] = \"0-18\"\n",
    "    b_trans_patient.loc[(b_trans_patient[\"admission_age\"] <= 25) & (b_trans_patient[\"admission_age\"] > 18), \"admission_age_group\"] = \"19-25\"\n",
    "    b_trans_patient.loc[(b_trans_patient[\"admission_age\"] <= 35) & (b_trans_patient[\"admission_age\"] > 25), \"admission_age_group\"] = \"26-35\"\n",
    "    b_trans_patient.loc[(b_trans_patient[\"admission_age\"] <= 45) & (b_trans_patient[\"admission_age\"] > 35), \"admission_age_group\"] = \"36-45\"\n",
    "    b_trans_patient.loc[(b_trans_patient[\"admission_age\"] <= 55) & (b_trans_patient[\"admission_age\"] > 45), \"admission_age_group\"] = \"46-55\"\n",
    "    b_trans_patient.loc[(b_trans_patient[\"admission_age\"] <= 65) & (b_trans_patient[\"admission_age\"] > 55), \"admission_age_group\"] = \"56-65\"\n",
    "    b_trans_patient.loc[(b_trans_patient[\"admission_age\"] <= 75) & (b_trans_patient[\"admission_age\"] > 65), \"admission_age_group\"] = \"66-75\"\n",
    "    b_trans_patient.loc[(b_trans_patient[\"admission_age\"] <= 85) & (b_trans_patient[\"admission_age\"] > 75), \"admission_age_group\"] = \"76-85\"\n",
    "    b_trans_patient.loc[(b_trans_patient[\"admission_age\"] > 85), \"admission_age_group\"] = \"85+\"\n",
    "   ###create patient groups!!#####\n",
    "    return b_trans_patient"
   ]
  },
  {
   "cell_type": "code",
   "execution_count": null,
   "metadata": {},
   "outputs": [],
   "source": [
    "def create_log_for_disco(df, log_name):\n",
    "    df = df.rename(columns={'hadm_id': 'case:concept:name', 'careunit': 'concept:name'})\n",
    "    event_log = log_converter.apply(df, variant=log_converter.Variants.TO_EVENT_LOG)\n",
    "    pm4py.write_csv(event_log, \"Logs/\" + log_name + \".csv\")"
   ]
  }
 ],
 "metadata": {
  "kernelspec": {
   "display_name": "Python 3",
   "language": "python",
   "name": "python3"
  },
  "language_info": {
   "codemirror_mode": {
    "name": "ipython",
    "version": 3
   },
   "file_extension": ".py",
   "mimetype": "text/x-python",
   "name": "python",
   "nbconvert_exporter": "python",
   "pygments_lexer": "ipython3",
   "version": "3.8.3"
  }
 },
 "nbformat": 4,
 "nbformat_minor": 4
}
